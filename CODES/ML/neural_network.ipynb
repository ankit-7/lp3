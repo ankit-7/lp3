{
  "cells": [
    {
      "cell_type": "markdown",
      "metadata": {
        "id": "a1YaSCnZI0xZ"
      },
      "source": [
        "Perform following steps:\n",
        "1. Read the dataset.\n",
        "2. Distinguish the feature and target set and divide the data set into training and test sets.\n",
        "3. Normalize the train and test data. \n",
        "4. Initialize and build the model. Identify the points of improvement and implement the same. \n",
        "5. Print the accuracy score and confusion matrix (5 points)."
      ]
    },
    {
      "cell_type": "code",
      "execution_count": 1,
      "metadata": {
        "id": "atw2Xac9I0xl"
      },
      "outputs": [],
      "source": [
        "import numpy as np\n",
        "import matplotlib.pyplot as plt\n",
        "import pandas as pd\n",
        "import seaborn as sns\n",
        "sns.set()"
      ]
    },
    {
      "cell_type": "code",
      "execution_count": 2,
      "metadata": {
        "colab": {
          "base_uri": "https://localhost:8080/",
          "height": 302
        },
        "id": "NPfi2q75I0xl",
        "outputId": "1f049900-3b13-433a-fa05-c439e3d9c2de"
      },
      "outputs": [
        {
          "data": {
            "text/html": [
              "\n",
              "  <div id=\"df-c8d60886-4420-4d7c-9150-d839b8e49c57\">\n",
              "    <div class=\"colab-df-container\">\n",
              "      <div>\n",
              "<style scoped>\n",
              "    .dataframe tbody tr th:only-of-type {\n",
              "        vertical-align: middle;\n",
              "    }\n",
              "\n",
              "    .dataframe tbody tr th {\n",
              "        vertical-align: top;\n",
              "    }\n",
              "\n",
              "    .dataframe thead th {\n",
              "        text-align: right;\n",
              "    }\n",
              "</style>\n",
              "<table border=\"1\" class=\"dataframe\">\n",
              "  <thead>\n",
              "    <tr style=\"text-align: right;\">\n",
              "      <th></th>\n",
              "      <th>CustomerId</th>\n",
              "      <th>Surname</th>\n",
              "      <th>CreditScore</th>\n",
              "      <th>Geography</th>\n",
              "      <th>Gender</th>\n",
              "      <th>Age</th>\n",
              "      <th>Tenure</th>\n",
              "      <th>Balance</th>\n",
              "      <th>NumOfProducts</th>\n",
              "      <th>HasCrCard</th>\n",
              "      <th>IsActiveMember</th>\n",
              "      <th>EstimatedSalary</th>\n",
              "      <th>Exited</th>\n",
              "    </tr>\n",
              "    <tr>\n",
              "      <th>RowNumber</th>\n",
              "      <th></th>\n",
              "      <th></th>\n",
              "      <th></th>\n",
              "      <th></th>\n",
              "      <th></th>\n",
              "      <th></th>\n",
              "      <th></th>\n",
              "      <th></th>\n",
              "      <th></th>\n",
              "      <th></th>\n",
              "      <th></th>\n",
              "      <th></th>\n",
              "      <th></th>\n",
              "    </tr>\n",
              "  </thead>\n",
              "  <tbody>\n",
              "    <tr>\n",
              "      <th>1</th>\n",
              "      <td>15634602</td>\n",
              "      <td>Hargrave</td>\n",
              "      <td>619</td>\n",
              "      <td>France</td>\n",
              "      <td>Female</td>\n",
              "      <td>42</td>\n",
              "      <td>2</td>\n",
              "      <td>0.00</td>\n",
              "      <td>1</td>\n",
              "      <td>1</td>\n",
              "      <td>1</td>\n",
              "      <td>101348.88</td>\n",
              "      <td>1</td>\n",
              "    </tr>\n",
              "    <tr>\n",
              "      <th>2</th>\n",
              "      <td>15647311</td>\n",
              "      <td>Hill</td>\n",
              "      <td>608</td>\n",
              "      <td>Spain</td>\n",
              "      <td>Female</td>\n",
              "      <td>41</td>\n",
              "      <td>1</td>\n",
              "      <td>83807.86</td>\n",
              "      <td>1</td>\n",
              "      <td>0</td>\n",
              "      <td>1</td>\n",
              "      <td>112542.58</td>\n",
              "      <td>0</td>\n",
              "    </tr>\n",
              "    <tr>\n",
              "      <th>3</th>\n",
              "      <td>15619304</td>\n",
              "      <td>Onio</td>\n",
              "      <td>502</td>\n",
              "      <td>France</td>\n",
              "      <td>Female</td>\n",
              "      <td>42</td>\n",
              "      <td>8</td>\n",
              "      <td>159660.80</td>\n",
              "      <td>3</td>\n",
              "      <td>1</td>\n",
              "      <td>0</td>\n",
              "      <td>113931.57</td>\n",
              "      <td>1</td>\n",
              "    </tr>\n",
              "    <tr>\n",
              "      <th>4</th>\n",
              "      <td>15701354</td>\n",
              "      <td>Boni</td>\n",
              "      <td>699</td>\n",
              "      <td>France</td>\n",
              "      <td>Female</td>\n",
              "      <td>39</td>\n",
              "      <td>1</td>\n",
              "      <td>0.00</td>\n",
              "      <td>2</td>\n",
              "      <td>0</td>\n",
              "      <td>0</td>\n",
              "      <td>93826.63</td>\n",
              "      <td>0</td>\n",
              "    </tr>\n",
              "    <tr>\n",
              "      <th>5</th>\n",
              "      <td>15737888</td>\n",
              "      <td>Mitchell</td>\n",
              "      <td>850</td>\n",
              "      <td>Spain</td>\n",
              "      <td>Female</td>\n",
              "      <td>43</td>\n",
              "      <td>2</td>\n",
              "      <td>125510.82</td>\n",
              "      <td>1</td>\n",
              "      <td>1</td>\n",
              "      <td>1</td>\n",
              "      <td>79084.10</td>\n",
              "      <td>0</td>\n",
              "    </tr>\n",
              "  </tbody>\n",
              "</table>\n",
              "</div>\n",
              "      <button class=\"colab-df-convert\" onclick=\"convertToInteractive('df-c8d60886-4420-4d7c-9150-d839b8e49c57')\"\n",
              "              title=\"Convert this dataframe to an interactive table.\"\n",
              "              style=\"display:none;\">\n",
              "        \n",
              "  <svg xmlns=\"http://www.w3.org/2000/svg\" height=\"24px\"viewBox=\"0 0 24 24\"\n",
              "       width=\"24px\">\n",
              "    <path d=\"M0 0h24v24H0V0z\" fill=\"none\"/>\n",
              "    <path d=\"M18.56 5.44l.94 2.06.94-2.06 2.06-.94-2.06-.94-.94-2.06-.94 2.06-2.06.94zm-11 1L8.5 8.5l.94-2.06 2.06-.94-2.06-.94L8.5 2.5l-.94 2.06-2.06.94zm10 10l.94 2.06.94-2.06 2.06-.94-2.06-.94-.94-2.06-.94 2.06-2.06.94z\"/><path d=\"M17.41 7.96l-1.37-1.37c-.4-.4-.92-.59-1.43-.59-.52 0-1.04.2-1.43.59L10.3 9.45l-7.72 7.72c-.78.78-.78 2.05 0 2.83L4 21.41c.39.39.9.59 1.41.59.51 0 1.02-.2 1.41-.59l7.78-7.78 2.81-2.81c.8-.78.8-2.07 0-2.86zM5.41 20L4 18.59l7.72-7.72 1.47 1.35L5.41 20z\"/>\n",
              "  </svg>\n",
              "      </button>\n",
              "      \n",
              "  <style>\n",
              "    .colab-df-container {\n",
              "      display:flex;\n",
              "      flex-wrap:wrap;\n",
              "      gap: 12px;\n",
              "    }\n",
              "\n",
              "    .colab-df-convert {\n",
              "      background-color: #E8F0FE;\n",
              "      border: none;\n",
              "      border-radius: 50%;\n",
              "      cursor: pointer;\n",
              "      display: none;\n",
              "      fill: #1967D2;\n",
              "      height: 32px;\n",
              "      padding: 0 0 0 0;\n",
              "      width: 32px;\n",
              "    }\n",
              "\n",
              "    .colab-df-convert:hover {\n",
              "      background-color: #E2EBFA;\n",
              "      box-shadow: 0px 1px 2px rgba(60, 64, 67, 0.3), 0px 1px 3px 1px rgba(60, 64, 67, 0.15);\n",
              "      fill: #174EA6;\n",
              "    }\n",
              "\n",
              "    [theme=dark] .colab-df-convert {\n",
              "      background-color: #3B4455;\n",
              "      fill: #D2E3FC;\n",
              "    }\n",
              "\n",
              "    [theme=dark] .colab-df-convert:hover {\n",
              "      background-color: #434B5C;\n",
              "      box-shadow: 0px 1px 3px 1px rgba(0, 0, 0, 0.15);\n",
              "      filter: drop-shadow(0px 1px 2px rgba(0, 0, 0, 0.3));\n",
              "      fill: #FFFFFF;\n",
              "    }\n",
              "  </style>\n",
              "\n",
              "      <script>\n",
              "        const buttonEl =\n",
              "          document.querySelector('#df-c8d60886-4420-4d7c-9150-d839b8e49c57 button.colab-df-convert');\n",
              "        buttonEl.style.display =\n",
              "          google.colab.kernel.accessAllowed ? 'block' : 'none';\n",
              "\n",
              "        async function convertToInteractive(key) {\n",
              "          const element = document.querySelector('#df-c8d60886-4420-4d7c-9150-d839b8e49c57');\n",
              "          const dataTable =\n",
              "            await google.colab.kernel.invokeFunction('convertToInteractive',\n",
              "                                                     [key], {});\n",
              "          if (!dataTable) return;\n",
              "\n",
              "          const docLinkHtml = 'Like what you see? Visit the ' +\n",
              "            '<a target=\"_blank\" href=https://colab.research.google.com/notebooks/data_table.ipynb>data table notebook</a>'\n",
              "            + ' to learn more about interactive tables.';\n",
              "          element.innerHTML = '';\n",
              "          dataTable['output_type'] = 'display_data';\n",
              "          await google.colab.output.renderOutput(dataTable, element);\n",
              "          const docLink = document.createElement('div');\n",
              "          docLink.innerHTML = docLinkHtml;\n",
              "          element.appendChild(docLink);\n",
              "        }\n",
              "      </script>\n",
              "    </div>\n",
              "  </div>\n",
              "  "
            ],
            "text/plain": [
              "           CustomerId   Surname  CreditScore Geography  Gender  Age  Tenure  \\\n",
              "RowNumber                                                                     \n",
              "1            15634602  Hargrave          619    France  Female   42       2   \n",
              "2            15647311      Hill          608     Spain  Female   41       1   \n",
              "3            15619304      Onio          502    France  Female   42       8   \n",
              "4            15701354      Boni          699    France  Female   39       1   \n",
              "5            15737888  Mitchell          850     Spain  Female   43       2   \n",
              "\n",
              "             Balance  NumOfProducts  HasCrCard  IsActiveMember  \\\n",
              "RowNumber                                                        \n",
              "1               0.00              1          1               1   \n",
              "2           83807.86              1          0               1   \n",
              "3          159660.80              3          1               0   \n",
              "4               0.00              2          0               0   \n",
              "5          125510.82              1          1               1   \n",
              "\n",
              "           EstimatedSalary  Exited  \n",
              "RowNumber                           \n",
              "1                101348.88       1  \n",
              "2                112542.58       0  \n",
              "3                113931.57       1  \n",
              "4                 93826.63       0  \n",
              "5                 79084.10       0  "
            ]
          },
          "execution_count": 2,
          "metadata": {},
          "output_type": "execute_result"
        }
      ],
      "source": [
        "dataset = pd.read_csv('/content/Churn_Modelling.csv', index_col = 'RowNumber')\n",
        "dataset.head()\n"
      ]
    },
    {
      "cell_type": "code",
      "execution_count": 3,
      "metadata": {
        "colab": {
          "base_uri": "https://localhost:8080/"
        },
        "id": "jelFHwknI0xm",
        "outputId": "e8e8af69-44e3-4b72-84cf-e15d6b026a5f"
      },
      "outputs": [
        {
          "name": "stdout",
          "output_type": "stream",
          "text": [
            "['CreditScore', 'Geography', 'Gender', 'Age', 'Tenure', 'Balance', 'NumOfProducts', 'HasCrCard', 'IsActiveMember', 'EstimatedSalary']\n",
            "['Exited']\n"
          ]
        }
      ],
      "source": [
        "#Customer ID and Surname would not be relevant as features\n",
        "X_columns = dataset.columns.tolist()[2:12]\n",
        "Y_columns = dataset.columns.tolist()[-1:]\n",
        "print(X_columns)\n",
        "print(Y_columns)"
      ]
    },
    {
      "cell_type": "code",
      "execution_count": 4,
      "metadata": {
        "id": "_EnXaCYmI0xn"
      },
      "outputs": [],
      "source": [
        "X = dataset[X_columns].values \n",
        "Y = dataset[Y_columns].values"
      ]
    },
    {
      "cell_type": "code",
      "execution_count": 5,
      "metadata": {
        "id": "cjbVx3FRI0xn"
      },
      "outputs": [],
      "source": [
        "#We need to encode categorical variables such as geography and gender\n",
        "from sklearn.preprocessing import LabelEncoder\n",
        "X_column_transformer = LabelEncoder()\n",
        "X[:, 1] = X_column_transformer.fit_transform(X[:, 1])"
      ]
    },
    {
      "cell_type": "code",
      "execution_count": 6,
      "metadata": {
        "id": "tS02t4y9I0xn"
      },
      "outputs": [],
      "source": [
        "#Lets Encode gender now\n",
        "X[:, 2] = X_column_transformer.fit_transform(X[:, 2])"
      ]
    },
    {
      "cell_type": "markdown",
      "metadata": {
        "id": "DKwFc-HWI0xo"
      },
      "source": [
        "We are treating countries with ordinal values(0 < 1 < 2) but they are incomparable.\n",
        "To solve this we can use one hot encoding.\n",
        "We will perform some standardization "
      ]
    },
    {
      "cell_type": "code",
      "execution_count": 7,
      "metadata": {
        "id": "v-bI9UNiI0xo"
      },
      "outputs": [],
      "source": [
        "from sklearn.preprocessing import StandardScaler, OneHotEncoder\n",
        "from sklearn.compose import ColumnTransformer\n",
        "from sklearn.pipeline import Pipeline\n",
        "\n",
        "pipeline = Pipeline(\n",
        "    [\n",
        "        ('Categorizer', ColumnTransformer(\n",
        "            [\n",
        "                (\"Gender Label Encoder\", OneHotEncoder(categories = 'auto', drop = 'first'), [2]),\n",
        "                (\"Geography Label Encoder\", OneHotEncoder(categories = 'auto', drop = 'first'), [1])\n",
        "            ], \n",
        "            remainder = 'passthrough', n_jobs = 1)),\n",
        "        ('Normalizer', StandardScaler())\n",
        "    ]\n",
        ")"
      ]
    },
    {
      "cell_type": "code",
      "execution_count": 8,
      "metadata": {
        "id": "7_TO_-fQI0xp"
      },
      "outputs": [],
      "source": [
        "#Standardize the features\n",
        "X = pipeline.fit_transform(X)"
      ]
    },
    {
      "cell_type": "code",
      "execution_count": 9,
      "metadata": {
        "id": "OJ7VUetiI0xq"
      },
      "outputs": [],
      "source": [
        "#Spilt the data\n",
        "from sklearn.model_selection import train_test_split\n",
        "X_train, X_test, y_train, y_test = train_test_split(X, Y, test_size = 0.2, random_state = 0)"
      ]
    },
    {
      "cell_type": "code",
      "execution_count": 10,
      "metadata": {
        "id": "mX35INUFI0xr"
      },
      "outputs": [],
      "source": [
        "#Let us create the Neural Network\n",
        "from keras.models import Sequential\n",
        "from keras.layers import Dense, Dropout"
      ]
    },
    {
      "cell_type": "code",
      "execution_count": 11,
      "metadata": {
        "id": "VYIsyqOUI0xs"
      },
      "outputs": [],
      "source": [
        "#Initialize ANN\n",
        "classifier = Sequential()"
      ]
    },
    {
      "cell_type": "code",
      "execution_count": 12,
      "metadata": {
        "id": "i3nH8oOhJcp8"
      },
      "outputs": [],
      "source": [
        "#Add input layer and hidden layer\n",
        "classifier.add(Dense(6, activation = 'relu', input_shape = (X_train.shape[1], )))\n",
        "classifier.add(Dropout(rate = 0.1))"
      ]
    },
    {
      "cell_type": "code",
      "execution_count": 13,
      "metadata": {
        "id": "gULE3c-YPvsI"
      },
      "outputs": [],
      "source": [
        "#Add second layer\n",
        "classifier.add(Dense(6, activation = 'relu'))\n",
        "classifier.add(Dropout(rate = 0.1))"
      ]
    },
    {
      "cell_type": "code",
      "execution_count": 14,
      "metadata": {
        "id": "j_XpNLaSP9Qk"
      },
      "outputs": [],
      "source": [
        "#Add output layer\n",
        "classifier.add(Dense(1, activation = 'sigmoid'))"
      ]
    },
    {
      "cell_type": "code",
      "execution_count": 15,
      "metadata": {
        "colab": {
          "base_uri": "https://localhost:8080/"
        },
        "id": "5rodKUhIQUWH",
        "outputId": "a8dd63ea-6662-41f3-a43b-4f3f4567a06d"
      },
      "outputs": [
        {
          "name": "stdout",
          "output_type": "stream",
          "text": [
            "Model: \"sequential\"\n",
            "_________________________________________________________________\n",
            " Layer (type)                Output Shape              Param #   \n",
            "=================================================================\n",
            " dense (Dense)               (None, 6)                 72        \n",
            "                                                                 \n",
            " dropout (Dropout)           (None, 6)                 0         \n",
            "                                                                 \n",
            " dense_1 (Dense)             (None, 6)                 42        \n",
            "                                                                 \n",
            " dropout_1 (Dropout)         (None, 6)                 0         \n",
            "                                                                 \n",
            " dense_2 (Dense)             (None, 1)                 7         \n",
            "                                                                 \n",
            "=================================================================\n",
            "Total params: 121\n",
            "Trainable params: 121\n",
            "Non-trainable params: 0\n",
            "_________________________________________________________________\n"
          ]
        }
      ],
      "source": [
        "#Let us take a look at our network\n",
        "classifier.summary()"
      ]
    },
    {
      "cell_type": "code",
      "execution_count": 16,
      "metadata": {
        "id": "XfHGyyviSXed"
      },
      "outputs": [],
      "source": [
        "#Optimize the weights\n",
        "classifier.compile(optimizer = 'adam', loss = 'binary_crossentropy', metrics = ['accuracy'])"
      ]
    },
    {
      "cell_type": "code",
      "execution_count": 17,
      "metadata": {
        "colab": {
          "base_uri": "https://localhost:8080/"
        },
        "id": "7px7qzJQVhan",
        "outputId": "09d47fa7-684c-424c-f144-e86492bcfa24"
      },
      "outputs": [
        {
          "name": "stdout",
          "output_type": "stream",
          "text": [
            "Epoch 1/200\n",
            "225/225 - 2s - loss: 0.7446 - accuracy: 0.5696 - val_loss: 0.5403 - val_accuracy: 0.7925 - 2s/epoch - 9ms/step\n",
            "Epoch 2/200\n",
            "225/225 - 1s - loss: 0.5176 - accuracy: 0.7889 - val_loss: 0.4816 - val_accuracy: 0.7950 - 744ms/epoch - 3ms/step\n",
            "Epoch 3/200\n",
            "225/225 - 0s - loss: 0.4839 - accuracy: 0.7953 - val_loss: 0.4582 - val_accuracy: 0.7950 - 361ms/epoch - 2ms/step\n",
            "Epoch 4/200\n",
            "225/225 - 0s - loss: 0.4739 - accuracy: 0.7946 - val_loss: 0.4430 - val_accuracy: 0.7950 - 361ms/epoch - 2ms/step\n",
            "Epoch 5/200\n",
            "225/225 - 0s - loss: 0.4611 - accuracy: 0.7953 - val_loss: 0.4337 - val_accuracy: 0.7950 - 355ms/epoch - 2ms/step\n",
            "Epoch 6/200\n",
            "225/225 - 0s - loss: 0.4543 - accuracy: 0.7951 - val_loss: 0.4281 - val_accuracy: 0.7950 - 334ms/epoch - 1ms/step\n",
            "Epoch 7/200\n",
            "225/225 - 0s - loss: 0.4475 - accuracy: 0.7958 - val_loss: 0.4229 - val_accuracy: 0.7950 - 335ms/epoch - 1ms/step\n",
            "Epoch 8/200\n",
            "225/225 - 0s - loss: 0.4444 - accuracy: 0.7960 - val_loss: 0.4186 - val_accuracy: 0.7950 - 329ms/epoch - 1ms/step\n",
            "Epoch 9/200\n",
            "225/225 - 0s - loss: 0.4412 - accuracy: 0.7960 - val_loss: 0.4160 - val_accuracy: 0.7950 - 335ms/epoch - 1ms/step\n",
            "Epoch 10/200\n",
            "225/225 - 0s - loss: 0.4392 - accuracy: 0.7960 - val_loss: 0.4130 - val_accuracy: 0.7950 - 368ms/epoch - 2ms/step\n",
            "Epoch 11/200\n",
            "225/225 - 0s - loss: 0.4387 - accuracy: 0.7958 - val_loss: 0.4112 - val_accuracy: 0.7950 - 358ms/epoch - 2ms/step\n",
            "Epoch 12/200\n",
            "225/225 - 0s - loss: 0.4356 - accuracy: 0.7960 - val_loss: 0.4096 - val_accuracy: 0.7950 - 338ms/epoch - 2ms/step\n",
            "Epoch 13/200\n",
            "225/225 - 0s - loss: 0.4366 - accuracy: 0.7961 - val_loss: 0.4096 - val_accuracy: 0.7950 - 367ms/epoch - 2ms/step\n",
            "Epoch 14/200\n",
            "225/225 - 0s - loss: 0.4318 - accuracy: 0.7961 - val_loss: 0.4065 - val_accuracy: 0.7950 - 328ms/epoch - 1ms/step\n",
            "Epoch 15/200\n",
            "225/225 - 0s - loss: 0.4371 - accuracy: 0.7958 - val_loss: 0.4063 - val_accuracy: 0.7950 - 338ms/epoch - 2ms/step\n",
            "Epoch 16/200\n",
            "225/225 - 0s - loss: 0.4313 - accuracy: 0.7958 - val_loss: 0.4044 - val_accuracy: 0.7950 - 333ms/epoch - 1ms/step\n",
            "Epoch 17/200\n",
            "225/225 - 0s - loss: 0.4328 - accuracy: 0.7957 - val_loss: 0.4039 - val_accuracy: 0.7950 - 323ms/epoch - 1ms/step\n",
            "Epoch 18/200\n",
            "225/225 - 0s - loss: 0.4319 - accuracy: 0.7961 - val_loss: 0.4038 - val_accuracy: 0.7950 - 372ms/epoch - 2ms/step\n",
            "Epoch 19/200\n",
            "225/225 - 0s - loss: 0.4320 - accuracy: 0.7958 - val_loss: 0.4030 - val_accuracy: 0.7950 - 329ms/epoch - 1ms/step\n",
            "Epoch 20/200\n",
            "225/225 - 0s - loss: 0.4324 - accuracy: 0.7961 - val_loss: 0.4030 - val_accuracy: 0.7950 - 327ms/epoch - 1ms/step\n",
            "Epoch 21/200\n",
            "225/225 - 0s - loss: 0.4305 - accuracy: 0.7958 - val_loss: 0.4024 - val_accuracy: 0.7950 - 369ms/epoch - 2ms/step\n",
            "Epoch 22/200\n",
            "225/225 - 0s - loss: 0.4330 - accuracy: 0.7958 - val_loss: 0.4025 - val_accuracy: 0.7950 - 370ms/epoch - 2ms/step\n",
            "Epoch 23/200\n",
            "225/225 - 0s - loss: 0.4352 - accuracy: 0.7957 - val_loss: 0.4028 - val_accuracy: 0.7950 - 330ms/epoch - 1ms/step\n",
            "Epoch 24/200\n",
            "225/225 - 1s - loss: 0.4305 - accuracy: 0.7960 - val_loss: 0.4018 - val_accuracy: 0.7950 - 592ms/epoch - 3ms/step\n",
            "Epoch 25/200\n",
            "225/225 - 1s - loss: 0.4286 - accuracy: 0.7958 - val_loss: 0.4007 - val_accuracy: 0.7950 - 922ms/epoch - 4ms/step\n",
            "Epoch 26/200\n",
            "225/225 - 0s - loss: 0.4314 - accuracy: 0.7960 - val_loss: 0.4012 - val_accuracy: 0.7950 - 363ms/epoch - 2ms/step\n",
            "Epoch 27/200\n",
            "225/225 - 0s - loss: 0.4305 - accuracy: 0.7957 - val_loss: 0.4009 - val_accuracy: 0.7950 - 337ms/epoch - 1ms/step\n",
            "Epoch 28/200\n",
            "225/225 - 0s - loss: 0.4334 - accuracy: 0.7956 - val_loss: 0.4002 - val_accuracy: 0.7950 - 356ms/epoch - 2ms/step\n",
            "Epoch 29/200\n",
            "225/225 - 0s - loss: 0.4277 - accuracy: 0.7956 - val_loss: 0.3989 - val_accuracy: 0.7950 - 333ms/epoch - 1ms/step\n",
            "Epoch 30/200\n",
            "225/225 - 0s - loss: 0.4305 - accuracy: 0.7960 - val_loss: 0.3999 - val_accuracy: 0.7950 - 353ms/epoch - 2ms/step\n",
            "Epoch 31/200\n",
            "225/225 - 0s - loss: 0.4314 - accuracy: 0.7957 - val_loss: 0.3990 - val_accuracy: 0.7950 - 325ms/epoch - 1ms/step\n",
            "Epoch 32/200\n",
            "225/225 - 0s - loss: 0.4286 - accuracy: 0.7957 - val_loss: 0.3995 - val_accuracy: 0.7950 - 331ms/epoch - 1ms/step\n",
            "Epoch 33/200\n",
            "225/225 - 0s - loss: 0.4309 - accuracy: 0.7960 - val_loss: 0.3993 - val_accuracy: 0.7950 - 337ms/epoch - 1ms/step\n",
            "Epoch 34/200\n",
            "225/225 - 0s - loss: 0.4305 - accuracy: 0.7958 - val_loss: 0.3999 - val_accuracy: 0.7950 - 350ms/epoch - 2ms/step\n",
            "Epoch 35/200\n",
            "225/225 - 0s - loss: 0.4274 - accuracy: 0.7958 - val_loss: 0.3995 - val_accuracy: 0.7950 - 328ms/epoch - 1ms/step\n",
            "Epoch 36/200\n",
            "225/225 - 0s - loss: 0.4287 - accuracy: 0.7961 - val_loss: 0.3988 - val_accuracy: 0.7950 - 334ms/epoch - 1ms/step\n",
            "Epoch 37/200\n",
            "225/225 - 0s - loss: 0.4276 - accuracy: 0.7961 - val_loss: 0.3992 - val_accuracy: 0.7950 - 373ms/epoch - 2ms/step\n",
            "Epoch 38/200\n",
            "225/225 - 0s - loss: 0.4278 - accuracy: 0.7961 - val_loss: 0.3985 - val_accuracy: 0.7950 - 371ms/epoch - 2ms/step\n",
            "Epoch 39/200\n",
            "225/225 - 0s - loss: 0.4241 - accuracy: 0.7989 - val_loss: 0.3975 - val_accuracy: 0.7950 - 346ms/epoch - 2ms/step\n",
            "Epoch 40/200\n",
            "225/225 - 0s - loss: 0.4284 - accuracy: 0.8051 - val_loss: 0.3977 - val_accuracy: 0.8313 - 329ms/epoch - 1ms/step\n",
            "Epoch 41/200\n",
            "225/225 - 0s - loss: 0.4281 - accuracy: 0.8149 - val_loss: 0.3970 - val_accuracy: 0.8313 - 333ms/epoch - 1ms/step\n",
            "Epoch 42/200\n",
            "225/225 - 0s - loss: 0.4293 - accuracy: 0.8185 - val_loss: 0.3976 - val_accuracy: 0.7950 - 367ms/epoch - 2ms/step\n",
            "Epoch 43/200\n",
            "225/225 - 0s - loss: 0.4288 - accuracy: 0.8072 - val_loss: 0.3985 - val_accuracy: 0.8363 - 328ms/epoch - 1ms/step\n",
            "Epoch 44/200\n",
            "225/225 - 0s - loss: 0.4259 - accuracy: 0.8224 - val_loss: 0.3964 - val_accuracy: 0.8325 - 349ms/epoch - 2ms/step\n",
            "Epoch 45/200\n",
            "225/225 - 0s - loss: 0.4243 - accuracy: 0.8210 - val_loss: 0.3963 - val_accuracy: 0.8363 - 475ms/epoch - 2ms/step\n",
            "Epoch 46/200\n",
            "225/225 - 1s - loss: 0.4296 - accuracy: 0.8231 - val_loss: 0.3956 - val_accuracy: 0.8325 - 517ms/epoch - 2ms/step\n",
            "Epoch 47/200\n",
            "225/225 - 1s - loss: 0.4272 - accuracy: 0.8238 - val_loss: 0.3956 - val_accuracy: 0.8325 - 542ms/epoch - 2ms/step\n",
            "Epoch 48/200\n",
            "225/225 - 1s - loss: 0.4261 - accuracy: 0.8235 - val_loss: 0.3952 - val_accuracy: 0.8350 - 537ms/epoch - 2ms/step\n",
            "Epoch 49/200\n",
            "225/225 - 1s - loss: 0.4275 - accuracy: 0.8235 - val_loss: 0.3955 - val_accuracy: 0.8400 - 527ms/epoch - 2ms/step\n",
            "Epoch 50/200\n",
            "225/225 - 0s - loss: 0.4250 - accuracy: 0.8268 - val_loss: 0.3942 - val_accuracy: 0.8388 - 351ms/epoch - 2ms/step\n",
            "Epoch 51/200\n",
            "225/225 - 0s - loss: 0.4270 - accuracy: 0.8218 - val_loss: 0.3955 - val_accuracy: 0.8375 - 330ms/epoch - 1ms/step\n",
            "Epoch 52/200\n",
            "225/225 - 0s - loss: 0.4251 - accuracy: 0.8260 - val_loss: 0.3945 - val_accuracy: 0.8388 - 373ms/epoch - 2ms/step\n",
            "Epoch 53/200\n",
            "225/225 - 0s - loss: 0.4232 - accuracy: 0.8240 - val_loss: 0.3942 - val_accuracy: 0.8400 - 369ms/epoch - 2ms/step\n",
            "Epoch 54/200\n",
            "225/225 - 0s - loss: 0.4282 - accuracy: 0.8250 - val_loss: 0.3943 - val_accuracy: 0.8363 - 334ms/epoch - 1ms/step\n",
            "Epoch 55/200\n",
            "225/225 - 0s - loss: 0.4252 - accuracy: 0.8235 - val_loss: 0.3948 - val_accuracy: 0.8350 - 363ms/epoch - 2ms/step\n",
            "Epoch 56/200\n",
            "225/225 - 0s - loss: 0.4311 - accuracy: 0.8275 - val_loss: 0.3943 - val_accuracy: 0.8363 - 378ms/epoch - 2ms/step\n",
            "Epoch 57/200\n",
            "225/225 - 0s - loss: 0.4232 - accuracy: 0.8260 - val_loss: 0.3938 - val_accuracy: 0.8363 - 333ms/epoch - 1ms/step\n",
            "Epoch 58/200\n",
            "225/225 - 0s - loss: 0.4251 - accuracy: 0.8274 - val_loss: 0.3938 - val_accuracy: 0.8350 - 328ms/epoch - 1ms/step\n",
            "Epoch 59/200\n",
            "225/225 - 0s - loss: 0.4259 - accuracy: 0.8258 - val_loss: 0.3948 - val_accuracy: 0.8350 - 359ms/epoch - 2ms/step\n",
            "Epoch 60/200\n",
            "225/225 - 0s - loss: 0.4242 - accuracy: 0.8278 - val_loss: 0.3934 - val_accuracy: 0.8363 - 367ms/epoch - 2ms/step\n",
            "Epoch 61/200\n",
            "225/225 - 0s - loss: 0.4242 - accuracy: 0.8269 - val_loss: 0.3927 - val_accuracy: 0.8350 - 354ms/epoch - 2ms/step\n",
            "Epoch 62/200\n",
            "225/225 - 0s - loss: 0.4255 - accuracy: 0.8251 - val_loss: 0.3934 - val_accuracy: 0.8350 - 350ms/epoch - 2ms/step\n",
            "Epoch 63/200\n",
            "225/225 - 0s - loss: 0.4255 - accuracy: 0.8263 - val_loss: 0.3929 - val_accuracy: 0.8350 - 334ms/epoch - 1ms/step\n",
            "Epoch 64/200\n",
            "225/225 - 0s - loss: 0.4242 - accuracy: 0.8300 - val_loss: 0.3930 - val_accuracy: 0.8350 - 358ms/epoch - 2ms/step\n",
            "Epoch 65/200\n",
            "225/225 - 0s - loss: 0.4238 - accuracy: 0.8272 - val_loss: 0.3929 - val_accuracy: 0.8350 - 350ms/epoch - 2ms/step\n",
            "Epoch 66/200\n",
            "225/225 - 0s - loss: 0.4253 - accuracy: 0.8288 - val_loss: 0.3920 - val_accuracy: 0.8350 - 368ms/epoch - 2ms/step\n",
            "Epoch 67/200\n",
            "225/225 - 0s - loss: 0.4266 - accuracy: 0.8292 - val_loss: 0.3925 - val_accuracy: 0.8350 - 327ms/epoch - 1ms/step\n",
            "Epoch 68/200\n",
            "225/225 - 0s - loss: 0.4284 - accuracy: 0.8290 - val_loss: 0.3915 - val_accuracy: 0.8375 - 324ms/epoch - 1ms/step\n",
            "Epoch 69/200\n",
            "225/225 - 0s - loss: 0.4262 - accuracy: 0.8271 - val_loss: 0.3921 - val_accuracy: 0.8363 - 330ms/epoch - 1ms/step\n",
            "Epoch 70/200\n",
            "225/225 - 0s - loss: 0.4264 - accuracy: 0.8274 - val_loss: 0.3924 - val_accuracy: 0.8363 - 355ms/epoch - 2ms/step\n",
            "Epoch 71/200\n",
            "225/225 - 0s - loss: 0.4259 - accuracy: 0.8279 - val_loss: 0.3923 - val_accuracy: 0.8350 - 358ms/epoch - 2ms/step\n",
            "Epoch 72/200\n",
            "225/225 - 0s - loss: 0.4233 - accuracy: 0.8278 - val_loss: 0.3912 - val_accuracy: 0.8350 - 364ms/epoch - 2ms/step\n",
            "Epoch 73/200\n",
            "225/225 - 0s - loss: 0.4265 - accuracy: 0.8278 - val_loss: 0.3910 - val_accuracy: 0.8375 - 361ms/epoch - 2ms/step\n",
            "Epoch 74/200\n",
            "225/225 - 0s - loss: 0.4280 - accuracy: 0.8286 - val_loss: 0.3902 - val_accuracy: 0.8350 - 328ms/epoch - 1ms/step\n",
            "Epoch 75/200\n",
            "225/225 - 0s - loss: 0.4222 - accuracy: 0.8285 - val_loss: 0.3913 - val_accuracy: 0.8375 - 363ms/epoch - 2ms/step\n",
            "Epoch 76/200\n",
            "225/225 - 0s - loss: 0.4220 - accuracy: 0.8290 - val_loss: 0.3905 - val_accuracy: 0.8350 - 364ms/epoch - 2ms/step\n",
            "Epoch 77/200\n",
            "225/225 - 0s - loss: 0.4227 - accuracy: 0.8288 - val_loss: 0.3915 - val_accuracy: 0.8375 - 356ms/epoch - 2ms/step\n",
            "Epoch 78/200\n",
            "225/225 - 0s - loss: 0.4256 - accuracy: 0.8301 - val_loss: 0.3908 - val_accuracy: 0.8350 - 361ms/epoch - 2ms/step\n",
            "Epoch 79/200\n",
            "225/225 - 0s - loss: 0.4209 - accuracy: 0.8276 - val_loss: 0.3911 - val_accuracy: 0.8363 - 350ms/epoch - 2ms/step\n",
            "Epoch 80/200\n",
            "225/225 - 0s - loss: 0.4218 - accuracy: 0.8306 - val_loss: 0.3898 - val_accuracy: 0.8363 - 332ms/epoch - 1ms/step\n",
            "Epoch 81/200\n",
            "225/225 - 0s - loss: 0.4254 - accuracy: 0.8282 - val_loss: 0.3904 - val_accuracy: 0.8363 - 356ms/epoch - 2ms/step\n",
            "Epoch 82/200\n",
            "225/225 - 0s - loss: 0.4260 - accuracy: 0.8290 - val_loss: 0.3909 - val_accuracy: 0.8375 - 326ms/epoch - 1ms/step\n",
            "Epoch 83/200\n",
            "225/225 - 0s - loss: 0.4254 - accuracy: 0.8265 - val_loss: 0.3913 - val_accuracy: 0.8375 - 340ms/epoch - 2ms/step\n",
            "Epoch 84/200\n",
            "225/225 - 0s - loss: 0.4232 - accuracy: 0.8288 - val_loss: 0.3900 - val_accuracy: 0.8350 - 325ms/epoch - 1ms/step\n",
            "Epoch 85/200\n",
            "225/225 - 0s - loss: 0.4222 - accuracy: 0.8282 - val_loss: 0.3898 - val_accuracy: 0.8363 - 349ms/epoch - 2ms/step\n",
            "Epoch 86/200\n",
            "225/225 - 0s - loss: 0.4235 - accuracy: 0.8297 - val_loss: 0.3897 - val_accuracy: 0.8350 - 331ms/epoch - 1ms/step\n",
            "Epoch 87/200\n",
            "225/225 - 0s - loss: 0.4213 - accuracy: 0.8303 - val_loss: 0.3892 - val_accuracy: 0.8363 - 368ms/epoch - 2ms/step\n",
            "Epoch 88/200\n",
            "225/225 - 0s - loss: 0.4263 - accuracy: 0.8294 - val_loss: 0.3895 - val_accuracy: 0.8350 - 362ms/epoch - 2ms/step\n",
            "Epoch 89/200\n",
            "225/225 - 0s - loss: 0.4254 - accuracy: 0.8282 - val_loss: 0.3912 - val_accuracy: 0.8363 - 323ms/epoch - 1ms/step\n",
            "Epoch 90/200\n",
            "225/225 - 0s - loss: 0.4230 - accuracy: 0.8268 - val_loss: 0.3901 - val_accuracy: 0.8375 - 321ms/epoch - 1ms/step\n",
            "Epoch 91/200\n",
            "225/225 - 0s - loss: 0.4244 - accuracy: 0.8328 - val_loss: 0.3899 - val_accuracy: 0.8338 - 355ms/epoch - 2ms/step\n",
            "Epoch 92/200\n",
            "225/225 - 0s - loss: 0.4306 - accuracy: 0.8257 - val_loss: 0.3907 - val_accuracy: 0.8375 - 329ms/epoch - 1ms/step\n",
            "Epoch 93/200\n",
            "225/225 - 0s - loss: 0.4227 - accuracy: 0.8307 - val_loss: 0.3901 - val_accuracy: 0.8363 - 498ms/epoch - 2ms/step\n",
            "Epoch 94/200\n",
            "225/225 - 1s - loss: 0.4215 - accuracy: 0.8308 - val_loss: 0.3894 - val_accuracy: 0.8375 - 873ms/epoch - 4ms/step\n",
            "Epoch 95/200\n",
            "225/225 - 0s - loss: 0.4203 - accuracy: 0.8297 - val_loss: 0.3890 - val_accuracy: 0.8388 - 485ms/epoch - 2ms/step\n",
            "Epoch 96/200\n",
            "225/225 - 1s - loss: 0.4256 - accuracy: 0.8267 - val_loss: 0.3885 - val_accuracy: 0.8388 - 922ms/epoch - 4ms/step\n",
            "Epoch 97/200\n",
            "225/225 - 1s - loss: 0.4235 - accuracy: 0.8278 - val_loss: 0.3882 - val_accuracy: 0.8425 - 566ms/epoch - 3ms/step\n",
            "Epoch 98/200\n",
            "225/225 - 0s - loss: 0.4237 - accuracy: 0.8303 - val_loss: 0.3883 - val_accuracy: 0.8450 - 358ms/epoch - 2ms/step\n",
            "Epoch 99/200\n",
            "225/225 - 0s - loss: 0.4202 - accuracy: 0.8297 - val_loss: 0.3882 - val_accuracy: 0.8462 - 374ms/epoch - 2ms/step\n",
            "Epoch 100/200\n",
            "225/225 - 0s - loss: 0.4271 - accuracy: 0.8276 - val_loss: 0.3879 - val_accuracy: 0.8413 - 360ms/epoch - 2ms/step\n",
            "Epoch 101/200\n",
            "225/225 - 0s - loss: 0.4219 - accuracy: 0.8319 - val_loss: 0.3878 - val_accuracy: 0.8388 - 354ms/epoch - 2ms/step\n",
            "Epoch 102/200\n",
            "225/225 - 0s - loss: 0.4261 - accuracy: 0.8310 - val_loss: 0.3873 - val_accuracy: 0.8388 - 365ms/epoch - 2ms/step\n",
            "Epoch 103/200\n",
            "225/225 - 0s - loss: 0.4223 - accuracy: 0.8278 - val_loss: 0.3873 - val_accuracy: 0.8388 - 330ms/epoch - 1ms/step\n",
            "Epoch 104/200\n",
            "225/225 - 0s - loss: 0.4240 - accuracy: 0.8308 - val_loss: 0.3899 - val_accuracy: 0.8400 - 329ms/epoch - 1ms/step\n",
            "Epoch 105/200\n",
            "225/225 - 0s - loss: 0.4240 - accuracy: 0.8318 - val_loss: 0.3873 - val_accuracy: 0.8413 - 331ms/epoch - 1ms/step\n",
            "Epoch 106/200\n",
            "225/225 - 0s - loss: 0.4246 - accuracy: 0.8290 - val_loss: 0.3869 - val_accuracy: 0.8425 - 322ms/epoch - 1ms/step\n",
            "Epoch 107/200\n",
            "225/225 - 0s - loss: 0.4273 - accuracy: 0.8301 - val_loss: 0.3874 - val_accuracy: 0.8413 - 353ms/epoch - 2ms/step\n",
            "Epoch 108/200\n",
            "225/225 - 0s - loss: 0.4266 - accuracy: 0.8310 - val_loss: 0.3870 - val_accuracy: 0.8400 - 337ms/epoch - 1ms/step\n",
            "Epoch 109/200\n",
            "225/225 - 0s - loss: 0.4228 - accuracy: 0.8324 - val_loss: 0.3884 - val_accuracy: 0.8413 - 327ms/epoch - 1ms/step\n",
            "Epoch 110/200\n",
            "225/225 - 0s - loss: 0.4187 - accuracy: 0.8307 - val_loss: 0.3872 - val_accuracy: 0.8413 - 359ms/epoch - 2ms/step\n",
            "Epoch 111/200\n",
            "225/225 - 0s - loss: 0.4207 - accuracy: 0.8314 - val_loss: 0.3870 - val_accuracy: 0.8413 - 370ms/epoch - 2ms/step\n",
            "Epoch 112/200\n",
            "225/225 - 0s - loss: 0.4191 - accuracy: 0.8318 - val_loss: 0.3865 - val_accuracy: 0.8413 - 326ms/epoch - 1ms/step\n",
            "Epoch 113/200\n",
            "225/225 - 0s - loss: 0.4200 - accuracy: 0.8306 - val_loss: 0.3870 - val_accuracy: 0.8413 - 374ms/epoch - 2ms/step\n",
            "Epoch 114/200\n",
            "225/225 - 0s - loss: 0.4210 - accuracy: 0.8293 - val_loss: 0.3869 - val_accuracy: 0.8413 - 354ms/epoch - 2ms/step\n",
            "Epoch 115/200\n",
            "225/225 - 0s - loss: 0.4243 - accuracy: 0.8308 - val_loss: 0.3870 - val_accuracy: 0.8413 - 330ms/epoch - 1ms/step\n",
            "Epoch 116/200\n",
            "225/225 - 0s - loss: 0.4246 - accuracy: 0.8315 - val_loss: 0.3875 - val_accuracy: 0.8413 - 336ms/epoch - 1ms/step\n",
            "Epoch 117/200\n",
            "225/225 - 0s - loss: 0.4240 - accuracy: 0.8314 - val_loss: 0.3868 - val_accuracy: 0.8400 - 324ms/epoch - 1ms/step\n",
            "Epoch 118/200\n",
            "225/225 - 0s - loss: 0.4217 - accuracy: 0.8325 - val_loss: 0.3871 - val_accuracy: 0.8425 - 337ms/epoch - 1ms/step\n",
            "Epoch 119/200\n",
            "225/225 - 0s - loss: 0.4234 - accuracy: 0.8279 - val_loss: 0.3878 - val_accuracy: 0.8388 - 327ms/epoch - 1ms/step\n",
            "Epoch 120/200\n",
            "225/225 - 0s - loss: 0.4212 - accuracy: 0.8301 - val_loss: 0.3873 - val_accuracy: 0.8413 - 363ms/epoch - 2ms/step\n",
            "Epoch 121/200\n",
            "225/225 - 0s - loss: 0.4258 - accuracy: 0.8288 - val_loss: 0.3884 - val_accuracy: 0.8388 - 352ms/epoch - 2ms/step\n",
            "Epoch 122/200\n",
            "225/225 - 0s - loss: 0.4227 - accuracy: 0.8307 - val_loss: 0.3866 - val_accuracy: 0.8400 - 334ms/epoch - 1ms/step\n",
            "Epoch 123/200\n",
            "225/225 - 0s - loss: 0.4198 - accuracy: 0.8314 - val_loss: 0.3857 - val_accuracy: 0.8388 - 361ms/epoch - 2ms/step\n",
            "Epoch 124/200\n",
            "225/225 - 0s - loss: 0.4232 - accuracy: 0.8304 - val_loss: 0.3866 - val_accuracy: 0.8388 - 335ms/epoch - 1ms/step\n",
            "Epoch 125/200\n",
            "225/225 - 0s - loss: 0.4175 - accuracy: 0.8331 - val_loss: 0.3860 - val_accuracy: 0.8388 - 334ms/epoch - 1ms/step\n",
            "Epoch 126/200\n",
            "225/225 - 0s - loss: 0.4212 - accuracy: 0.8318 - val_loss: 0.3876 - val_accuracy: 0.8413 - 331ms/epoch - 1ms/step\n",
            "Epoch 127/200\n",
            "225/225 - 0s - loss: 0.4212 - accuracy: 0.8296 - val_loss: 0.3871 - val_accuracy: 0.8400 - 367ms/epoch - 2ms/step\n",
            "Epoch 128/200\n",
            "225/225 - 0s - loss: 0.4220 - accuracy: 0.8314 - val_loss: 0.3880 - val_accuracy: 0.8400 - 340ms/epoch - 2ms/step\n",
            "Epoch 129/200\n",
            "225/225 - 0s - loss: 0.4273 - accuracy: 0.8281 - val_loss: 0.3869 - val_accuracy: 0.8413 - 322ms/epoch - 1ms/step\n",
            "Epoch 130/200\n",
            "225/225 - 0s - loss: 0.4219 - accuracy: 0.8282 - val_loss: 0.3870 - val_accuracy: 0.8413 - 361ms/epoch - 2ms/step\n",
            "Epoch 131/200\n",
            "225/225 - 0s - loss: 0.4231 - accuracy: 0.8303 - val_loss: 0.3869 - val_accuracy: 0.8388 - 379ms/epoch - 2ms/step\n",
            "Epoch 132/200\n",
            "225/225 - 0s - loss: 0.4207 - accuracy: 0.8304 - val_loss: 0.3865 - val_accuracy: 0.8375 - 369ms/epoch - 2ms/step\n",
            "Epoch 133/200\n",
            "225/225 - 0s - loss: 0.4214 - accuracy: 0.8328 - val_loss: 0.3868 - val_accuracy: 0.8375 - 360ms/epoch - 2ms/step\n",
            "Epoch 134/200\n",
            "225/225 - 0s - loss: 0.4236 - accuracy: 0.8292 - val_loss: 0.3873 - val_accuracy: 0.8400 - 330ms/epoch - 1ms/step\n",
            "Epoch 135/200\n",
            "225/225 - 0s - loss: 0.4237 - accuracy: 0.8338 - val_loss: 0.3858 - val_accuracy: 0.8400 - 363ms/epoch - 2ms/step\n",
            "Epoch 136/200\n",
            "225/225 - 0s - loss: 0.4236 - accuracy: 0.8296 - val_loss: 0.3865 - val_accuracy: 0.8400 - 352ms/epoch - 2ms/step\n",
            "Epoch 137/200\n",
            "225/225 - 0s - loss: 0.4221 - accuracy: 0.8313 - val_loss: 0.3864 - val_accuracy: 0.8400 - 334ms/epoch - 1ms/step\n",
            "Epoch 138/200\n",
            "225/225 - 0s - loss: 0.4215 - accuracy: 0.8285 - val_loss: 0.3871 - val_accuracy: 0.8438 - 365ms/epoch - 2ms/step\n",
            "Epoch 139/200\n",
            "225/225 - 0s - loss: 0.4222 - accuracy: 0.8318 - val_loss: 0.3859 - val_accuracy: 0.8400 - 358ms/epoch - 2ms/step\n",
            "Epoch 140/200\n",
            "225/225 - 0s - loss: 0.4212 - accuracy: 0.8319 - val_loss: 0.3864 - val_accuracy: 0.8375 - 366ms/epoch - 2ms/step\n",
            "Epoch 141/200\n",
            "225/225 - 0s - loss: 0.4239 - accuracy: 0.8306 - val_loss: 0.3874 - val_accuracy: 0.8363 - 377ms/epoch - 2ms/step\n",
            "Epoch 142/200\n",
            "225/225 - 0s - loss: 0.4285 - accuracy: 0.8307 - val_loss: 0.3883 - val_accuracy: 0.8375 - 336ms/epoch - 1ms/step\n",
            "Epoch 143/200\n",
            "225/225 - 0s - loss: 0.4226 - accuracy: 0.8304 - val_loss: 0.3877 - val_accuracy: 0.8388 - 318ms/epoch - 1ms/step\n",
            "Epoch 144/200\n",
            "225/225 - 0s - loss: 0.4243 - accuracy: 0.8304 - val_loss: 0.3883 - val_accuracy: 0.8388 - 356ms/epoch - 2ms/step\n",
            "Epoch 145/200\n",
            "225/225 - 0s - loss: 0.4261 - accuracy: 0.8321 - val_loss: 0.3872 - val_accuracy: 0.8388 - 334ms/epoch - 1ms/step\n",
            "Epoch 146/200\n",
            "225/225 - 0s - loss: 0.4214 - accuracy: 0.8303 - val_loss: 0.3874 - val_accuracy: 0.8400 - 358ms/epoch - 2ms/step\n",
            "Epoch 147/200\n",
            "225/225 - 0s - loss: 0.4227 - accuracy: 0.8304 - val_loss: 0.3866 - val_accuracy: 0.8400 - 329ms/epoch - 1ms/step\n",
            "Epoch 148/200\n",
            "225/225 - 0s - loss: 0.4240 - accuracy: 0.8319 - val_loss: 0.3862 - val_accuracy: 0.8400 - 363ms/epoch - 2ms/step\n",
            "Epoch 149/200\n",
            "225/225 - 0s - loss: 0.4237 - accuracy: 0.8322 - val_loss: 0.3870 - val_accuracy: 0.8388 - 362ms/epoch - 2ms/step\n",
            "Epoch 150/200\n",
            "225/225 - 0s - loss: 0.4228 - accuracy: 0.8300 - val_loss: 0.3874 - val_accuracy: 0.8425 - 327ms/epoch - 1ms/step\n",
            "Epoch 151/200\n",
            "225/225 - 0s - loss: 0.4219 - accuracy: 0.8282 - val_loss: 0.3867 - val_accuracy: 0.8388 - 373ms/epoch - 2ms/step\n",
            "Epoch 152/200\n",
            "225/225 - 0s - loss: 0.4184 - accuracy: 0.8318 - val_loss: 0.3861 - val_accuracy: 0.8400 - 323ms/epoch - 1ms/step\n",
            "Epoch 153/200\n",
            "225/225 - 0s - loss: 0.4203 - accuracy: 0.8321 - val_loss: 0.3880 - val_accuracy: 0.8363 - 354ms/epoch - 2ms/step\n",
            "Epoch 154/200\n",
            "225/225 - 0s - loss: 0.4246 - accuracy: 0.8300 - val_loss: 0.3869 - val_accuracy: 0.8400 - 337ms/epoch - 1ms/step\n",
            "Epoch 155/200\n",
            "225/225 - 0s - loss: 0.4224 - accuracy: 0.8294 - val_loss: 0.3872 - val_accuracy: 0.8388 - 326ms/epoch - 1ms/step\n",
            "Epoch 156/200\n",
            "225/225 - 0s - loss: 0.4199 - accuracy: 0.8306 - val_loss: 0.3859 - val_accuracy: 0.8413 - 359ms/epoch - 2ms/step\n",
            "Epoch 157/200\n",
            "225/225 - 0s - loss: 0.4219 - accuracy: 0.8311 - val_loss: 0.3862 - val_accuracy: 0.8363 - 370ms/epoch - 2ms/step\n",
            "Epoch 158/200\n",
            "225/225 - 0s - loss: 0.4201 - accuracy: 0.8318 - val_loss: 0.3860 - val_accuracy: 0.8413 - 332ms/epoch - 1ms/step\n",
            "Epoch 159/200\n",
            "225/225 - 0s - loss: 0.4202 - accuracy: 0.8297 - val_loss: 0.3859 - val_accuracy: 0.8400 - 319ms/epoch - 1ms/step\n",
            "Epoch 160/200\n",
            "225/225 - 0s - loss: 0.4188 - accuracy: 0.8322 - val_loss: 0.3864 - val_accuracy: 0.8388 - 378ms/epoch - 2ms/step\n",
            "Epoch 161/200\n",
            "225/225 - 0s - loss: 0.4219 - accuracy: 0.8290 - val_loss: 0.3865 - val_accuracy: 0.8388 - 357ms/epoch - 2ms/step\n",
            "Epoch 162/200\n",
            "225/225 - 0s - loss: 0.4216 - accuracy: 0.8329 - val_loss: 0.3861 - val_accuracy: 0.8413 - 330ms/epoch - 1ms/step\n",
            "Epoch 163/200\n",
            "225/225 - 0s - loss: 0.4234 - accuracy: 0.8279 - val_loss: 0.3867 - val_accuracy: 0.8363 - 369ms/epoch - 2ms/step\n",
            "Epoch 164/200\n",
            "225/225 - 0s - loss: 0.4188 - accuracy: 0.8313 - val_loss: 0.3853 - val_accuracy: 0.8388 - 325ms/epoch - 1ms/step\n",
            "Epoch 165/200\n",
            "225/225 - 0s - loss: 0.4217 - accuracy: 0.8308 - val_loss: 0.3856 - val_accuracy: 0.8388 - 321ms/epoch - 1ms/step\n",
            "Epoch 166/200\n",
            "225/225 - 0s - loss: 0.4215 - accuracy: 0.8294 - val_loss: 0.3852 - val_accuracy: 0.8400 - 363ms/epoch - 2ms/step\n",
            "Epoch 167/200\n",
            "225/225 - 0s - loss: 0.4249 - accuracy: 0.8288 - val_loss: 0.3872 - val_accuracy: 0.8425 - 324ms/epoch - 1ms/step\n",
            "Epoch 168/200\n",
            "225/225 - 0s - loss: 0.4232 - accuracy: 0.8285 - val_loss: 0.3858 - val_accuracy: 0.8400 - 324ms/epoch - 1ms/step\n",
            "Epoch 169/200\n",
            "225/225 - 0s - loss: 0.4232 - accuracy: 0.8300 - val_loss: 0.3863 - val_accuracy: 0.8388 - 369ms/epoch - 2ms/step\n",
            "Epoch 170/200\n",
            "225/225 - 0s - loss: 0.4173 - accuracy: 0.8300 - val_loss: 0.3868 - val_accuracy: 0.8388 - 357ms/epoch - 2ms/step\n",
            "Epoch 171/200\n",
            "225/225 - 0s - loss: 0.4190 - accuracy: 0.8314 - val_loss: 0.3865 - val_accuracy: 0.8375 - 383ms/epoch - 2ms/step\n",
            "Epoch 172/200\n",
            "225/225 - 0s - loss: 0.4224 - accuracy: 0.8300 - val_loss: 0.3863 - val_accuracy: 0.8363 - 328ms/epoch - 1ms/step\n",
            "Epoch 173/200\n",
            "225/225 - 0s - loss: 0.4211 - accuracy: 0.8304 - val_loss: 0.3857 - val_accuracy: 0.8413 - 332ms/epoch - 1ms/step\n",
            "Epoch 174/200\n",
            "225/225 - 0s - loss: 0.4215 - accuracy: 0.8286 - val_loss: 0.3851 - val_accuracy: 0.8413 - 332ms/epoch - 1ms/step\n",
            "Epoch 175/200\n",
            "225/225 - 0s - loss: 0.4209 - accuracy: 0.8271 - val_loss: 0.3852 - val_accuracy: 0.8413 - 358ms/epoch - 2ms/step\n",
            "Epoch 176/200\n",
            "225/225 - 0s - loss: 0.4219 - accuracy: 0.8300 - val_loss: 0.3860 - val_accuracy: 0.8425 - 355ms/epoch - 2ms/step\n",
            "Epoch 177/200\n",
            "225/225 - 0s - loss: 0.4219 - accuracy: 0.8313 - val_loss: 0.3866 - val_accuracy: 0.8388 - 337ms/epoch - 1ms/step\n",
            "Epoch 178/200\n",
            "225/225 - 0s - loss: 0.4203 - accuracy: 0.8288 - val_loss: 0.3855 - val_accuracy: 0.8413 - 369ms/epoch - 2ms/step\n",
            "Epoch 179/200\n",
            "225/225 - 0s - loss: 0.4220 - accuracy: 0.8311 - val_loss: 0.3857 - val_accuracy: 0.8388 - 365ms/epoch - 2ms/step\n",
            "Epoch 180/200\n",
            "225/225 - 0s - loss: 0.4182 - accuracy: 0.8339 - val_loss: 0.3865 - val_accuracy: 0.8388 - 347ms/epoch - 2ms/step\n",
            "Epoch 181/200\n",
            "225/225 - 0s - loss: 0.4183 - accuracy: 0.8324 - val_loss: 0.3850 - val_accuracy: 0.8400 - 331ms/epoch - 1ms/step\n",
            "Epoch 182/200\n",
            "225/225 - 0s - loss: 0.4204 - accuracy: 0.8317 - val_loss: 0.3863 - val_accuracy: 0.8350 - 362ms/epoch - 2ms/step\n",
            "Epoch 183/200\n",
            "225/225 - 0s - loss: 0.4238 - accuracy: 0.8294 - val_loss: 0.3860 - val_accuracy: 0.8388 - 364ms/epoch - 2ms/step\n",
            "Epoch 184/200\n",
            "225/225 - 0s - loss: 0.4234 - accuracy: 0.8281 - val_loss: 0.3854 - val_accuracy: 0.8400 - 358ms/epoch - 2ms/step\n",
            "Epoch 185/200\n",
            "225/225 - 0s - loss: 0.4237 - accuracy: 0.8289 - val_loss: 0.3859 - val_accuracy: 0.8400 - 356ms/epoch - 2ms/step\n",
            "Epoch 186/200\n",
            "225/225 - 0s - loss: 0.4236 - accuracy: 0.8288 - val_loss: 0.3873 - val_accuracy: 0.8363 - 333ms/epoch - 1ms/step\n",
            "Epoch 187/200\n",
            "225/225 - 0s - loss: 0.4194 - accuracy: 0.8301 - val_loss: 0.3855 - val_accuracy: 0.8400 - 316ms/epoch - 1ms/step\n",
            "Epoch 188/200\n",
            "225/225 - 0s - loss: 0.4210 - accuracy: 0.8310 - val_loss: 0.3861 - val_accuracy: 0.8400 - 357ms/epoch - 2ms/step\n",
            "Epoch 189/200\n",
            "225/225 - 0s - loss: 0.4226 - accuracy: 0.8306 - val_loss: 0.3868 - val_accuracy: 0.8413 - 335ms/epoch - 1ms/step\n",
            "Epoch 190/200\n",
            "225/225 - 0s - loss: 0.4192 - accuracy: 0.8306 - val_loss: 0.3863 - val_accuracy: 0.8400 - 330ms/epoch - 1ms/step\n",
            "Epoch 191/200\n",
            "225/225 - 0s - loss: 0.4243 - accuracy: 0.8296 - val_loss: 0.3863 - val_accuracy: 0.8388 - 364ms/epoch - 2ms/step\n",
            "Epoch 192/200\n",
            "225/225 - 0s - loss: 0.4227 - accuracy: 0.8310 - val_loss: 0.3864 - val_accuracy: 0.8388 - 371ms/epoch - 2ms/step\n",
            "Epoch 193/200\n",
            "225/225 - 0s - loss: 0.4224 - accuracy: 0.8300 - val_loss: 0.3869 - val_accuracy: 0.8363 - 321ms/epoch - 1ms/step\n",
            "Epoch 194/200\n",
            "225/225 - 0s - loss: 0.4236 - accuracy: 0.8322 - val_loss: 0.3868 - val_accuracy: 0.8400 - 328ms/epoch - 1ms/step\n",
            "Epoch 195/200\n",
            "225/225 - 0s - loss: 0.4202 - accuracy: 0.8315 - val_loss: 0.3870 - val_accuracy: 0.8375 - 367ms/epoch - 2ms/step\n",
            "Epoch 196/200\n",
            "225/225 - 0s - loss: 0.4212 - accuracy: 0.8289 - val_loss: 0.3858 - val_accuracy: 0.8400 - 334ms/epoch - 1ms/step\n",
            "Epoch 197/200\n",
            "225/225 - 0s - loss: 0.4182 - accuracy: 0.8310 - val_loss: 0.3861 - val_accuracy: 0.8375 - 356ms/epoch - 2ms/step\n",
            "Epoch 198/200\n",
            "225/225 - 0s - loss: 0.4238 - accuracy: 0.8308 - val_loss: 0.3856 - val_accuracy: 0.8413 - 341ms/epoch - 2ms/step\n",
            "Epoch 199/200\n",
            "225/225 - 0s - loss: 0.4238 - accuracy: 0.8276 - val_loss: 0.3857 - val_accuracy: 0.8375 - 361ms/epoch - 2ms/step\n",
            "Epoch 200/200\n",
            "225/225 - 0s - loss: 0.4226 - accuracy: 0.8274 - val_loss: 0.3857 - val_accuracy: 0.8400 - 362ms/epoch - 2ms/step\n"
          ]
        }
      ],
      "source": [
        "#Fitting the Neural Network\n",
        "history = classifier.fit(X_train, y_train, batch_size = 32, epochs = 200, validation_split = 0.1, verbose = 2)"
      ]
    },
    {
      "cell_type": "code",
      "execution_count": 19,
      "metadata": {
        "colab": {
          "base_uri": "https://localhost:8080/"
        },
        "id": "aq1-eNM2YqL8",
        "outputId": "0fd0fa0a-cf54-4637-f8b6-f15342002a15"
      },
      "outputs": [
        {
          "name": "stdout",
          "output_type": "stream",
          "text": [
            "63/63 [==============================] - 0s 1ms/step\n",
            "[[0.21353428]\n",
            " [0.3550975 ]\n",
            " [0.1884149 ]\n",
            " [0.04963601]\n",
            " [0.2057534 ]]\n"
          ]
        }
      ],
      "source": [
        "y_pred = classifier.predict(X_test)\n",
        "print(y_pred[:5])"
      ]
    },
    {
      "cell_type": "code",
      "execution_count": 20,
      "metadata": {
        "colab": {
          "base_uri": "https://localhost:8080/"
        },
        "id": "S8JJz5bLY-7I",
        "outputId": "00827497-0dfb-49c4-d70b-2071d70ae5f0"
      },
      "outputs": [
        {
          "name": "stdout",
          "output_type": "stream",
          "text": [
            "[[0]\n",
            " [0]\n",
            " [0]\n",
            " [0]\n",
            " [0]]\n"
          ]
        }
      ],
      "source": [
        "#Let us use confusion matrix with cutoff value as 0.5\n",
        "y_pred = (y_pred > 0.5).astype(int)\n",
        "print(y_pred[:5])"
      ]
    },
    {
      "cell_type": "code",
      "execution_count": 21,
      "metadata": {
        "colab": {
          "base_uri": "https://localhost:8080/"
        },
        "id": "Bcyv6h2UZPbO",
        "outputId": "6ca6b222-2516-4b03-c081-1ba7feaa6817"
      },
      "outputs": [
        {
          "name": "stdout",
          "output_type": "stream",
          "text": [
            "[[1569   26]\n",
            " [ 293  112]]\n"
          ]
        }
      ],
      "source": [
        "#Making the Matrix\n",
        "from sklearn.metrics import confusion_matrix\n",
        "cm = confusion_matrix(y_test, y_pred)\n",
        "print(cm)"
      ]
    },
    {
      "cell_type": "code",
      "execution_count": 22,
      "metadata": {
        "colab": {
          "base_uri": "https://localhost:8080/"
        },
        "id": "l3weViSLZc1v",
        "outputId": "64895b62-30f8-4e86-e592-d3fae20b2673"
      },
      "outputs": [
        {
          "name": "stdout",
          "output_type": "stream",
          "text": [
            "84.05 % of data was classified correctly\n"
          ]
        }
      ],
      "source": [
        "#Accuracy of our NN\n",
        "print(((cm[0][0] + cm[1][1])* 100) / len(y_test), '% of data was classified correctly')"
      ]
    },
    {
      "cell_type": "code",
      "execution_count": null,
      "metadata": {
        "id": "ZQS4pGDSaCLQ"
      },
      "outputs": [],
      "source": []
    }
  ],
  "metadata": {
    "colab": {
      "provenance": []
    },
    "interpreter": {
      "hash": "f82e9eef39fec3b4432bd3d531b07136b7f172564442eec42315ae171445fe6f"
    },
    "kernelspec": {
      "display_name": "Python 3.8.6 64-bit",
      "name": "python3"
    },
    "language_info": {
      "codemirror_mode": {
        "name": "ipython",
        "version": 3
      },
      "file_extension": ".py",
      "mimetype": "text/x-python",
      "name": "python",
      "nbconvert_exporter": "python",
      "pygments_lexer": "ipython3",
      "version": "3.8.6"
    },
    "orig_nbformat": 4
  },
  "nbformat": 4,
  "nbformat_minor": 0
}
